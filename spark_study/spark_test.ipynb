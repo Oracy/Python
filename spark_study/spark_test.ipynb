{
 "cells": [
  {
   "cell_type": "code",
   "execution_count": 1,
   "id": "4e8c2819",
   "metadata": {},
   "outputs": [],
   "source": [
    "from pyspark.sql import SparkSession"
   ]
  },
  {
   "cell_type": "code",
   "execution_count": 20,
   "id": "dd3691d1",
   "metadata": {},
   "outputs": [],
   "source": [
    "# Spark Session create, you can do it using builder() or newSession()\n",
    "spark = SparkSession.builder.master(\"local[1]\").appName(\"Spark_Examples\").getOrCreate()"
   ]
  },
  {
   "cell_type": "code",
   "execution_count": 25,
   "id": "60f2b8e4",
   "metadata": {},
   "outputs": [
    {
     "data": {
      "text/plain": [
       "ParallelCollectionRDD[6] at readRDDFromFile at PythonRDD.scala:274"
      ]
     },
     "execution_count": 25,
     "metadata": {},
     "output_type": "execute_result"
    }
   ],
   "source": [
    "# Using parallelize() method used to create a RDD from a list\n",
    "data_list = [\n",
    "    (\"Java\", 20000),\n",
    "    (\"Python\", 100000),\n",
    "    (\"Scala\", 3000),\n",
    "]\n",
    "rdd_parallelize = spark.sparkContext.parallelize(data_list)\n",
    "rdd_parallelize"
   ]
  },
  {
   "cell_type": "code",
   "execution_count": 26,
   "id": "9e669c4c",
   "metadata": {},
   "outputs": [
    {
     "data": {
      "text/plain": [
       "./files/username.csv MapPartitionsRDD[8] at textFile at NativeMethodAccessorImpl.java:0"
      ]
     },
     "execution_count": 26,
     "metadata": {},
     "output_type": "execute_result"
    }
   ],
   "source": [
    "# Using textFile() method used to create a RDD from a external file\n",
    "rdd_text_file = spark.sparkContext.textFile(\"./files/username.csv\")\n",
    "rdd_text_file"
   ]
  },
  {
   "cell_type": "code",
   "execution_count": 56,
   "id": "b6c1b8a9",
   "metadata": {},
   "outputs": [
    {
     "name": "stdout",
     "output_type": "stream",
     "text": [
      "root\n",
      " |-- firstname: string (nullable = true)\n",
      " |-- middlename: string (nullable = true)\n",
      " |-- lastname: string (nullable = true)\n",
      " |-- dob: string (nullable = true)\n",
      " |-- gender: string (nullable = true)\n",
      " |-- salary: long (nullable = true)\n",
      "\n"
     ]
    }
   ],
   "source": [
    "# Using createDataFrame()\n",
    "data = [\n",
    "    ('James','','Smith','1991-04-01','M',3000),\n",
    "    ('Michael','Rose','','2000-05-19','M',4000),\n",
    "    ('Robert','','Williams','1978-09-05','M',4000),\n",
    "    ('Maria','Anne','Jones','1967-12-01','F',4000),\n",
    "    ('Jen','Mary','Brown','1980-02-17','F',-1),\n",
    "]\n",
    "\n",
    "columns = [\n",
    "    \"firstname\",\n",
    "    \"middlename\",\n",
    "    \"lastname\",\n",
    "    \"dob\",\n",
    "    \"gender\",\n",
    "    \"salary\",\n",
    "]\n",
    "\n",
    "df = spark.createDataFrame(\n",
    "    data=data,\n",
    "    schema=columns\n",
    ")\n",
    "\n",
    "df.printSchema()"
   ]
  },
  {
   "cell_type": "code",
   "execution_count": 57,
   "id": "0763062d",
   "metadata": {},
   "outputs": [
    {
     "data": {
      "text/html": [
       "<div>\n",
       "<style scoped>\n",
       "    .dataframe tbody tr th:only-of-type {\n",
       "        vertical-align: middle;\n",
       "    }\n",
       "\n",
       "    .dataframe tbody tr th {\n",
       "        vertical-align: top;\n",
       "    }\n",
       "\n",
       "    .dataframe thead th {\n",
       "        text-align: right;\n",
       "    }\n",
       "</style>\n",
       "<table border=\"1\" class=\"dataframe\">\n",
       "  <thead>\n",
       "    <tr style=\"text-align: right;\">\n",
       "      <th></th>\n",
       "      <th>firstname</th>\n",
       "      <th>middlename</th>\n",
       "      <th>lastname</th>\n",
       "      <th>dob</th>\n",
       "      <th>gender</th>\n",
       "      <th>salary</th>\n",
       "    </tr>\n",
       "  </thead>\n",
       "  <tbody>\n",
       "    <tr>\n",
       "      <th>0</th>\n",
       "      <td>James</td>\n",
       "      <td></td>\n",
       "      <td>Smith</td>\n",
       "      <td>1991-04-01</td>\n",
       "      <td>M</td>\n",
       "      <td>3000</td>\n",
       "    </tr>\n",
       "    <tr>\n",
       "      <th>1</th>\n",
       "      <td>Michael</td>\n",
       "      <td>Rose</td>\n",
       "      <td></td>\n",
       "      <td>2000-05-19</td>\n",
       "      <td>M</td>\n",
       "      <td>4000</td>\n",
       "    </tr>\n",
       "    <tr>\n",
       "      <th>2</th>\n",
       "      <td>Robert</td>\n",
       "      <td></td>\n",
       "      <td>Williams</td>\n",
       "      <td>1978-09-05</td>\n",
       "      <td>M</td>\n",
       "      <td>4000</td>\n",
       "    </tr>\n",
       "    <tr>\n",
       "      <th>3</th>\n",
       "      <td>Maria</td>\n",
       "      <td>Anne</td>\n",
       "      <td>Jones</td>\n",
       "      <td>1967-12-01</td>\n",
       "      <td>F</td>\n",
       "      <td>4000</td>\n",
       "    </tr>\n",
       "    <tr>\n",
       "      <th>4</th>\n",
       "      <td>Jen</td>\n",
       "      <td>Mary</td>\n",
       "      <td>Brown</td>\n",
       "      <td>1980-02-17</td>\n",
       "      <td>F</td>\n",
       "      <td>-1</td>\n",
       "    </tr>\n",
       "  </tbody>\n",
       "</table>\n",
       "</div>"
      ],
      "text/plain": [
       "  firstname middlename  lastname         dob gender  salary\n",
       "0     James                Smith  1991-04-01      M    3000\n",
       "1   Michael       Rose            2000-05-19      M    4000\n",
       "2    Robert             Williams  1978-09-05      M    4000\n",
       "3     Maria       Anne     Jones  1967-12-01      F    4000\n",
       "4       Jen       Mary     Brown  1980-02-17      F      -1"
      ]
     },
     "execution_count": 57,
     "metadata": {},
     "output_type": "execute_result"
    }
   ],
   "source": [
    "df.toPandas()"
   ]
  },
  {
   "cell_type": "code",
   "execution_count": 58,
   "id": "8470b963",
   "metadata": {},
   "outputs": [
    {
     "name": "stdout",
     "output_type": "stream",
     "text": [
      "+---------+----------+--------+----------+------+------+\n",
      "|firstname|middlename|lastname|       dob|gender|salary|\n",
      "+---------+----------+--------+----------+------+------+\n",
      "|    James|          |   Smith|1991-04-01|     M|  3000|\n",
      "|  Michael|      Rose|        |2000-05-19|     M|  4000|\n",
      "|   Robert|          |Williams|1978-09-05|     M|  4000|\n",
      "|    Maria|      Anne|   Jones|1967-12-01|     F|  4000|\n",
      "|      Jen|      Mary|   Brown|1980-02-17|     F|    -1|\n",
      "+---------+----------+--------+----------+------+------+\n",
      "\n"
     ]
    }
   ],
   "source": [
    "# df.show() shows the 20 elements from the DataFrame.\n",
    "df.show()"
   ]
  },
  {
   "cell_type": "markdown",
   "id": "2b15aa9e",
   "metadata": {},
   "source": [
    "Supported file formats\n",
    "\n",
    "DataFrame has a rich set of API which supports reading and writing several file formats\n",
    "- csv\n",
    "- text\n",
    "- Avro\n",
    "- Parquet\n",
    "- tsv\n",
    "- xml and many more"
   ]
  },
  {
   "cell_type": "markdown",
   "id": "bb0e48b7",
   "metadata": {},
   "source": [
    "---\n",
    "# PySpark SQL Tutorial"
   ]
  },
  {
   "cell_type": "code",
   "execution_count": 33,
   "id": "86aa90a7",
   "metadata": {},
   "outputs": [
    {
     "name": "stdout",
     "output_type": "stream",
     "text": [
      "root\n",
      " |-- firstname: string (nullable = true)\n",
      " |-- middlename: string (nullable = true)\n",
      " |-- lastname: string (nullable = true)\n",
      " |-- dob: string (nullable = true)\n",
      " |-- gender: string (nullable = true)\n",
      " |-- salary: long (nullable = true)\n",
      "\n",
      "+---------+----------+--------+----------+------+------+\n",
      "|firstname|middlename|lastname|       dob|gender|salary|\n",
      "+---------+----------+--------+----------+------+------+\n",
      "|    James|          |   Smith|1991-04-01|     M|  3000|\n",
      "|  Michael|      Rose|        |2000-05-19|     M|  4000|\n",
      "|   Robert|          |Williams|1978-09-05|     M|  4000|\n",
      "|    Maria|      Anne|   Jones|1967-12-01|     F|  4000|\n",
      "|      Jen|      Mary|   Brown|1980-02-17|     F|    -1|\n",
      "+---------+----------+--------+----------+------+------+\n",
      "\n"
     ]
    }
   ],
   "source": [
    "df.createOrReplaceTempView(\"PERSON_DATA\")\n",
    "df2 = spark.sql(\"SELECT * FROM PERSON_DATA\")\n",
    "df2.printSchema()\n",
    "df2.show()"
   ]
  },
  {
   "cell_type": "code",
   "execution_count": 35,
   "id": "583c4e8c",
   "metadata": {},
   "outputs": [
    {
     "name": "stdout",
     "output_type": "stream",
     "text": [
      "+------+---+\n",
      "|gender|qtd|\n",
      "+------+---+\n",
      "|     F|  2|\n",
      "|     M|  3|\n",
      "+------+---+\n",
      "\n"
     ]
    }
   ],
   "source": [
    "group_df = spark.sql(\"SELECT gender, count(*) as qtd FROM PERSON_DATA group by gender\")\n",
    "group_df.show()"
   ]
  },
  {
   "cell_type": "markdown",
   "id": "60a16975",
   "metadata": {},
   "source": [
    "---\n",
    "# Streaming from TCP Socket"
   ]
  },
  {
   "cell_type": "code",
   "execution_count": 45,
   "id": "8225717f",
   "metadata": {
    "scrolled": true
   },
   "outputs": [
    {
     "name": "stderr",
     "output_type": "stream",
     "text": [
      "22/02/21 02:08:59 WARN TextSocketSourceProvider: The socket source should not be used for production applications! It does not support recovery.\n"
     ]
    }
   ],
   "source": [
    "df = spark.readStream.format(\"socket\").option(\"host\", \"localhost\").option(\"port\", \"9090\").load()"
   ]
  },
  {
   "cell_type": "code",
   "execution_count": 53,
   "id": "ad54800a",
   "metadata": {},
   "outputs": [],
   "source": [
    "query = df.writeStream.format(\"console\").outputMode(\"update\")"
   ]
  },
  {
   "cell_type": "code",
   "execution_count": null,
   "id": "e18bcbc8",
   "metadata": {},
   "outputs": [],
   "source": []
  }
 ],
 "metadata": {
  "kernelspec": {
   "display_name": "Python 3 (ipykernel)",
   "language": "python",
   "name": "python3"
  },
  "language_info": {
   "codemirror_mode": {
    "name": "ipython",
    "version": 3
   },
   "file_extension": ".py",
   "mimetype": "text/x-python",
   "name": "python",
   "nbconvert_exporter": "python",
   "pygments_lexer": "ipython3",
   "version": "3.8.10"
  }
 },
 "nbformat": 4,
 "nbformat_minor": 5
}
